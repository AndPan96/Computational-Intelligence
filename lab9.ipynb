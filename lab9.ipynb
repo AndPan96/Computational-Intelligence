{
  "cells": [
    {
      "cell_type": "markdown",
      "metadata": {
        "id": "6yrqKg7-lUfd"
      },
      "source": [
        "Copyright **`(c)`** 2023 Giovanni Squillero `<giovanni.squillero@polito.it>`  \n",
        "[`https://github.com/squillero/computational-intelligence`](https://github.com/squillero/computational-intelligence)  \n",
        "Free for personal or classroom use; see [`LICENSE.md`](https://github.com/squillero/computational-intelligence/blob/master/LICENSE.md) for details.  "
      ]
    },
    {
      "cell_type": "markdown",
      "metadata": {
        "id": "3dVDonKJlUfg"
      },
      "source": [
        "# LAB9\n",
        "\n",
        "Write a local-search algorithm (eg. an EA) able to solve the *Problem* instances 1, 2, 5, and 10 on a 1000-loci genomes, using a minimum number of fitness calls. That's all.\n",
        "\n",
        "### Deadlines:\n",
        "\n",
        "* Submission: Sunday, December 3 ([CET](https://www.timeanddate.com/time/zones/cet))\n",
        "* Reviews: Sunday, December 10 ([CET](https://www.timeanddate.com/time/zones/cet))\n",
        "\n",
        "Notes:\n",
        "\n",
        "* Reviews will be assigned  on Monday, December 4\n",
        "* You need to commit in order to be selected as a reviewer (ie. better to commit an empty work than not to commit)"
      ]
    },
    {
      "cell_type": "code",
      "execution_count": 5,
      "metadata": {
        "id": "G1CmVfm9lUfh"
      },
      "outputs": [],
      "source": [
        "#from random import choices, random, choice\n",
        "import random\n",
        "import copy\n",
        "from tqdm import tqdm\n",
        "import lab9_lib"
      ]
    },
    {
      "cell_type": "code",
      "execution_count": 60,
      "metadata": {
        "colab": {
          "base_uri": "https://localhost:8080/"
        },
        "id": "oENRXSHblUfj",
        "outputId": "8a016c70-2c2e-4ed8-8459-8e1c3de0ac2c"
      },
      "outputs": [
        {
          "output_type": "stream",
          "name": "stdout",
          "text": [
            "01010100111011111000010100111001001001001101010101: 15.34%\n",
            "01111001000001101010101100100010011010101110111000: 23.34%\n",
            "00111000001011010111100100001101011011100101010010: 9.16%\n",
            "01010110000011101011000011110110100100110111000010: 35.56%\n",
            "01100010110001010011001011000001100100001010100100: 7.36%\n",
            "10100101001110110000011000010010010110111111000110: 15.33%\n",
            "00000100001111110100011101101001000111100101110111: 9.13%\n",
            "10011010110001101101000111010000101101100011001111: 23.33%\n",
            "01011101001111100101111001101000111010000100011000: 7.33%\n",
            "01001111001110001000111011011101110000110100101000: 9.33%\n",
            "10\n"
          ]
        }
      ],
      "source": [
        "fitness = lab9_lib.make_problem(10)\n",
        "for n in range(10):\n",
        "    ind = random.choices([0, 1], k=50)\n",
        "    print(f\"{''.join(str(g) for g in ind)}: {fitness(ind):.2%}\")\n",
        "\n",
        "print(fitness.calls)"
      ]
    },
    {
      "cell_type": "code",
      "execution_count": 8,
      "metadata": {
        "id": "YI_C4bxwlUfk"
      },
      "outputs": [],
      "source": [
        "class Genotype:\n",
        "\n",
        "  def __init__(self, genome, fitness):\n",
        "    self.genome = genome\n",
        "    self.fitness = fitness\n",
        "\n"
      ]
    },
    {
      "cell_type": "code",
      "source": [
        "GENES = 1000\n",
        "POP_SIZE = 20\n",
        "OFF_SIZE = 20\n",
        "TOURN_SIZE = 5\n",
        "EPO_SIZE = 10000\n",
        "MUTATION_PROB = 0.5\n",
        "\n",
        "ESP_MUT = 0.05\n",
        "ESP_MUT_FACT = 2\n",
        "MAX_NUM_MUT = 50\n",
        "MAX_NUM_MUT_ADD = 1\n",
        "\n",
        "best_ind = None\n",
        "\n",
        "def mutate1(individual, epo_mut):\n",
        "  my_list = copy.deepcopy(individual.genome)\n",
        "  for i in range(len(my_list)):\n",
        "        if random.random() < epo_mut:\n",
        "            my_list[i] = not my_list[i]\n",
        "  return my_list\n",
        "\n",
        "def mutate2(individual, epo_mut):\n",
        "  my_list = copy.deepcopy(individual.genome)\n",
        "  if random.random() < 0.9:\n",
        "    num_mutations = random.choice(range(epo_mut)) + 1\n",
        "  else:\n",
        "    num_mutations = 1\n",
        "  for _ in range(num_mutations):\n",
        "    i = random.choice(range(len(my_list)))\n",
        "    my_list[i] = not my_list[i]\n",
        "  return my_list\n",
        "\n",
        "mutate = mutate2\n",
        "\n",
        "def xover(ind1, ind2):\n",
        "  offspring_genome = []\n",
        "\n",
        "  for gene1, gene2 in zip(ind1.genome, ind2.genome):\n",
        "      if random.random() < 0.5:\n",
        "          offspring_genome.append(gene2)\n",
        "      else:\n",
        "          offspring_genome.append(gene1)\n",
        "  return offspring_genome\n",
        "\n",
        "pop_val = [random.choices([0,1], k=GENES) for _ in range(POP_SIZE)]\n",
        "pop = [Genotype(val, fitness(val)) for val in pop_val]\n",
        "for epo in tqdm(range(EPO_SIZE)):\n",
        "  tourn = [random.choice(pop) for _ in range(TOURN_SIZE)]\n",
        "  parent = max(tourn, key=lambda x : x.fitness)\n",
        "\n",
        "  #epo_mut = ESP_MUT\n",
        "  epo_mut = MAX_NUM_MUT\n",
        "\n",
        "  for off in range(OFF_SIZE):\n",
        "    child = copy.deepcopy(parent)\n",
        "\n",
        "    if random.random() < MUTATION_PROB:\n",
        "      child.genome = mutate(child, epo_mut)\n",
        "    else:\n",
        "      child.genome = xover(child, random.choice(tourn))\n",
        "\n",
        "    child.fitness = fitness(child.genome)\n",
        "\n",
        "    if best_ind is None or child.fitness > best_ind.fitness:\n",
        "      best_ind = child\n",
        "\n",
        "    worst = min(tourn, key=lambda x : x.fitness)\n",
        "    if child.fitness > worst.fitness:\n",
        "      #epo_mut = max(0.0001,epo_mut / ESP_MUT_FACT)\n",
        "      epo_mut = max(1,epo_mut - MAX_NUM_MUT_ADD)\n",
        "    else:\n",
        "      #epo_mut = min(1,epo_mut * ESP_MUT_FACT)\n",
        "      epo_mut = min(POP_SIZE,epo_mut + MAX_NUM_MUT_ADD)\n",
        "\n",
        "    pop.append(child)\n",
        "    pop = sorted(pop, key=lambda x: x.fitness, reverse=True)\n",
        "    pop = pop[:POP_SIZE]\n"
      ],
      "metadata": {
        "colab": {
          "base_uri": "https://localhost:8080/"
        },
        "id": "ayuhzgejnz0l",
        "outputId": "9fefac95-f7bc-4723-e3fb-cab294fcb61b"
      },
      "execution_count": 16,
      "outputs": [
        {
          "output_type": "stream",
          "name": "stderr",
          "text": [
            "100%|██████████| 10000/10000 [03:42<00:00, 44.90it/s]\n"
          ]
        }
      ]
    },
    {
      "cell_type": "code",
      "source": [
        "print(best_ind.fitness)"
      ],
      "metadata": {
        "colab": {
          "base_uri": "https://localhost:8080/"
        },
        "id": "cUtfzSIJ-zHB",
        "outputId": "57e09eb6-6a9e-466a-a05c-7f00fd465b12"
      },
      "execution_count": 17,
      "outputs": [
        {
          "output_type": "stream",
          "name": "stdout",
          "text": [
            "0.848\n"
          ]
        }
      ]
    },
    {
      "cell_type": "code",
      "source": [
        "#We have an high dimensional problem, but in binary domain: this case is the opposite of having a monodimensional problem in continuous domain\n",
        "#Here is clear more than ever that my mutation step has to take into consideration both mesas and spikes:\n",
        "#can really I say that I won't find a better solution because I don't mutate enough? Couldn't it be that I'm mutating too much too?\n",
        "#\n",
        "\n",
        "#I also need to distinguish among different regions of my search space, reguarding the mutation step, so I'm gonna save the one that has created an individual\n",
        "#into it and I'll use it as a more accurate prior for its mutation"
      ],
      "metadata": {
        "id": "CoqqkIXIGEew"
      },
      "execution_count": null,
      "outputs": []
    },
    {
      "cell_type": "code",
      "source": [
        "class Genotype:\n",
        "\n",
        "  def __init__(self, genome, fitness, mutation):\n",
        "    self.genome = genome\n",
        "    self.fitness = fitness\n",
        "    self.mutation = mutation\n"
      ],
      "metadata": {
        "id": "booyYQXzGH94"
      },
      "execution_count": 22,
      "outputs": []
    },
    {
      "cell_type": "code",
      "source": [
        "GENES = 1000\n",
        "POP_SIZE = 20\n",
        "OFF_SIZE = 20\n",
        "TOURN_SIZE = 5\n",
        "EPO_SIZE = 10000\n",
        "MUTATION_PROB = 0.5\n",
        "\n",
        "ESP_MUT = 0.05\n",
        "ESP_MUT_FACT = 2\n",
        "MAX_NUM_MUT = 50\n",
        "MAX_NUM_MUT_ADD = 1\n",
        "\n",
        "best_ind = None\n",
        "\n",
        "# def mutate1(individual, epo_mut):\n",
        "#   my_list = copy.deepcopy(individual.genome)\n",
        "#   for i in range(len(my_list)):\n",
        "#         if random.random() < epo_mut:\n",
        "#             my_list[i] = not my_list[i]\n",
        "#   return my_list\n",
        "\n",
        "def mutate2(individual, epo_mut):\n",
        "  my_list = copy.deepcopy(individual.genome)\n",
        "  if random.random() < 0.9:\n",
        "    num_mutations = random.choice(range(epo_mut)) + 1\n",
        "  else:\n",
        "    num_mutations = 1\n",
        "  for _ in range(num_mutations):\n",
        "    i = random.choice(range(len(my_list)))\n",
        "    my_list[i] = not my_list[i]\n",
        "  return my_list\n",
        "\n",
        "mutate = mutate2\n",
        "\n",
        "def xover(ind1, ind2):\n",
        "  offspring_genome = []\n",
        "\n",
        "  for gene1, gene2 in zip(ind1.genome, ind2.genome):\n",
        "      if random.random() < 0.5:\n",
        "          offspring_genome.append(gene2)\n",
        "      else:\n",
        "          offspring_genome.append(gene1)\n",
        "  return offspring_genome\n",
        "\n",
        "pop_val = [random.choices([0,1], k=GENES) for _ in range(POP_SIZE)]\n",
        "pop = [Genotype(val, fitness(val), MAX_NUM_MUT) for val in pop_val]\n",
        "for epo in tqdm(range(EPO_SIZE)):\n",
        "  tourn = [random.choice(pop) for _ in range(TOURN_SIZE)]\n",
        "  parent = max(tourn, key=lambda x : x.fitness)\n",
        "\n",
        "  #epo_mut = ESP_MUT\n",
        "  epo_mut = parent.mutation\n",
        "\n",
        "  for off in range(OFF_SIZE):\n",
        "    child = copy.deepcopy(parent)\n",
        "\n",
        "    if random.random() < MUTATION_PROB:\n",
        "      child.genome = mutate(child, epo_mut)\n",
        "    else:\n",
        "      child.genome = xover(child, random.choice(tourn))\n",
        "\n",
        "    child.mutation = epo_mut\n",
        "    child.fitness = fitness(child.genome)\n",
        "\n",
        "    if best_ind is None or child.fitness > best_ind.fitness:\n",
        "      best_ind = child\n",
        "\n",
        "    worst = min(tourn, key=lambda x : x.fitness)\n",
        "    if child.fitness > worst.fitness:\n",
        "      #epo_mut = max(0.0001,epo_mut / ESP_MUT_FACT)\n",
        "      epo_mut = max(1,epo_mut - MAX_NUM_MUT_ADD)\n",
        "    else:\n",
        "      #epo_mut = min(1,epo_mut * ESP_MUT_FACT)\n",
        "      epo_mut = min(POP_SIZE,epo_mut + MAX_NUM_MUT_ADD)\n",
        "\n",
        "    pop.append(child)\n",
        "    pop = sorted(pop, key=lambda x: x.fitness, reverse=True)\n",
        "    pop = pop[:POP_SIZE]\n"
      ],
      "metadata": {
        "colab": {
          "base_uri": "https://localhost:8080/"
        },
        "id": "QOqWx5T2Ka9-",
        "outputId": "e6d0ebd8-1f98-4b16-f1c6-e44353e37adf"
      },
      "execution_count": 23,
      "outputs": [
        {
          "output_type": "stream",
          "name": "stderr",
          "text": [
            "100%|██████████| 10000/10000 [03:40<00:00, 45.33it/s]\n"
          ]
        }
      ]
    },
    {
      "cell_type": "code",
      "source": [
        "print(best_ind.fitness)"
      ],
      "metadata": {
        "colab": {
          "base_uri": "https://localhost:8080/"
        },
        "id": "JbFtjjkzKg-A",
        "outputId": "12df4df6-4713-4018-fc22-eb3c38d24a71"
      },
      "execution_count": 24,
      "outputs": [
        {
          "output_type": "stream",
          "name": "stdout",
          "text": [
            "0.91\n"
          ]
        }
      ]
    },
    {
      "cell_type": "code",
      "source": [
        "#We are getting better: what if I update the parent's mutation if no offspring does better?"
      ],
      "metadata": {
        "id": "8oz0DsHZOHpk"
      },
      "execution_count": null,
      "outputs": []
    },
    {
      "cell_type": "code",
      "source": [
        "class Genotype:\n",
        "\n",
        "  def __init__(self, genome, fitness, mutation):\n",
        "    self.genome = genome\n",
        "    self.fitness = fitness\n",
        "    self.mutation = mutation\n"
      ],
      "metadata": {
        "id": "k_Q30irWOnu0"
      },
      "execution_count": 25,
      "outputs": []
    },
    {
      "cell_type": "code",
      "source": [
        "GENES = 1000\n",
        "POP_SIZE = 20\n",
        "OFF_SIZE = 20\n",
        "TOURN_SIZE = 5\n",
        "EPO_SIZE = 10000\n",
        "MUTATION_PROB = 0.8\n",
        "\n",
        "ESP_MUT = 0.05\n",
        "ESP_MUT_FACT = 2\n",
        "MAX_NUM_MUT = 50\n",
        "MAX_NUM_MUT_ADD = 1\n",
        "\n",
        "best_ind = None\n",
        "\n",
        "# def mutate1(individual, epo_mut):\n",
        "#   my_list = copy.deepcopy(individual.genome)\n",
        "#   for i in range(len(my_list)):\n",
        "#         if random.random() < epo_mut:\n",
        "#             my_list[i] = not my_list[i]\n",
        "#   return my_list\n",
        "\n",
        "def mutate2(individual, epo_mut):\n",
        "  my_list = copy.deepcopy(individual.genome)\n",
        "  if random.random() < 0.9:\n",
        "    num_mutations = random.choice(range(epo_mut)) + 1\n",
        "  else:\n",
        "    num_mutations = random.choice(range(2)) + 1\n",
        "  for _ in range(num_mutations):\n",
        "    i = random.choice(range(len(my_list)))\n",
        "    my_list[i] = not my_list[i]\n",
        "  return my_list\n",
        "\n",
        "mutate = mutate2\n",
        "\n",
        "def xover(ind1, ind2):\n",
        "  offspring_genome = []\n",
        "\n",
        "  for gene1, gene2 in zip(ind1.genome, ind2.genome):\n",
        "      if random.random() < 0.5:\n",
        "          offspring_genome.append(gene2)\n",
        "      else:\n",
        "          offspring_genome.append(gene1)\n",
        "  return offspring_genome\n",
        "\n",
        "pop_val = [random.choices([0,1], k=GENES) for _ in range(POP_SIZE)]\n",
        "pop = [Genotype(val, fitness(val), MAX_NUM_MUT) for val in pop_val]\n",
        "for epo in tqdm(range(EPO_SIZE)):\n",
        "  tourn = [random.choice(pop) for _ in range(TOURN_SIZE)]\n",
        "  parent = max(tourn, key=lambda x : x.fitness)\n",
        "\n",
        "  #epo_mut = ESP_MUT\n",
        "  epo_mut = parent.mutation\n",
        "  child_made_it = False\n",
        "\n",
        "  for off in range(OFF_SIZE):\n",
        "    child = copy.deepcopy(parent)\n",
        "\n",
        "    if random.random() < MUTATION_PROB:\n",
        "      child.genome = mutate(child, epo_mut)\n",
        "    else:\n",
        "      child.genome = xover(child, random.choice(tourn))\n",
        "\n",
        "    child.mutation = epo_mut\n",
        "    child.fitness = fitness(child.genome)\n",
        "\n",
        "    if best_ind is None or child.fitness > best_ind.fitness:\n",
        "      best_ind = child\n",
        "\n",
        "    worst = min(tourn, key=lambda x : x.fitness)\n",
        "    if child.fitness > worst.fitness:\n",
        "      #epo_mut = max(0.0001,epo_mut / ESP_MUT_FACT)\n",
        "      epo_mut = max(1,epo_mut - MAX_NUM_MUT_ADD)\n",
        "    else:\n",
        "      #epo_mut = min(1,epo_mut * ESP_MUT_FACT)\n",
        "      epo_mut = min(POP_SIZE,epo_mut + MAX_NUM_MUT_ADD)\n",
        "\n",
        "    pop.append(child)\n",
        "    pop = sorted(pop, key=lambda x: x.fitness, reverse=True)\n",
        "    pop = pop[:POP_SIZE]\n",
        "    if child in pop: child_made_it = True\n",
        "\n",
        "  if not child_made_it: parent.mutation = epo_mut"
      ],
      "metadata": {
        "colab": {
          "base_uri": "https://localhost:8080/"
        },
        "id": "4hndl6AkOni3",
        "outputId": "637573c6-158a-45ad-b2d6-4bfb0ff4afb8"
      },
      "execution_count": 38,
      "outputs": [
        {
          "output_type": "stream",
          "name": "stderr",
          "text": [
            "100%|██████████| 10000/10000 [04:02<00:00, 41.24it/s]\n"
          ]
        }
      ]
    },
    {
      "cell_type": "code",
      "source": [
        "print(best_ind.fitness)"
      ],
      "metadata": {
        "colab": {
          "base_uri": "https://localhost:8080/"
        },
        "id": "9oBx0Xb2OnHe",
        "outputId": "fe27168f-0a00-44ca-82a1-f90f3545c092"
      },
      "execution_count": 39,
      "outputs": [
        {
          "output_type": "stream",
          "name": "stdout",
          "text": [
            "0.958\n"
          ]
        }
      ]
    },
    {
      "cell_type": "code",
      "source": [
        "#goin better but I should find a way to generalize and both find a precise value for my brand new alternative mutation\n",
        "\n",
        "#I will try extinction"
      ],
      "metadata": {
        "id": "OrciyzTWcxjf"
      },
      "execution_count": null,
      "outputs": []
    },
    {
      "cell_type": "code",
      "source": [
        "class Genotype:\n",
        "\n",
        "  def __init__(self, genome, fitness, mutation):\n",
        "    self.genome = genome\n",
        "    self.fitness = fitness\n",
        "    self.mutation = mutation\n"
      ],
      "metadata": {
        "id": "wEv1YOoEdWxd"
      },
      "execution_count": 40,
      "outputs": []
    },
    {
      "cell_type": "code",
      "source": [
        "GENES = 1000\n",
        "POP_SIZE = 20\n",
        "OFF_SIZE = 20\n",
        "SVR_SIZE = 10\n",
        "TOURN_SIZE = 5\n",
        "EPO_SIZE = 10000\n",
        "MUTATION_PROB = 0.8\n",
        "\n",
        "ESP_MUT = 0.05\n",
        "ESP_MUT_FACT = 2\n",
        "MAX_NUM_MUT = 50\n",
        "MAX_NUM_MUT_ADD = 1\n",
        "\n",
        "best_ind = None\n",
        "\n",
        "# def mutate1(individual, epo_mut):\n",
        "#   my_list = copy.deepcopy(individual.genome)\n",
        "#   for i in range(len(my_list)):\n",
        "#         if random.random() < epo_mut:\n",
        "#             my_list[i] = not my_list[i]\n",
        "#   return my_list\n",
        "\n",
        "def mutate2(individual, epo_mut):\n",
        "  my_list = copy.deepcopy(individual.genome)\n",
        "  if random.random() < 0.9:\n",
        "    num_mutations = random.choice(range(epo_mut)) + 1\n",
        "  else:\n",
        "    num_mutations = random.choice(range(2)) + 1\n",
        "  for _ in range(num_mutations):\n",
        "    i = random.choice(range(len(my_list)))\n",
        "    my_list[i] = not my_list[i]\n",
        "  return my_list\n",
        "\n",
        "mutate = mutate2\n",
        "\n",
        "def xover1(ind1, ind2):\n",
        "  offspring_genome = []\n",
        "\n",
        "  for gene1, gene2 in zip(ind1.genome, ind2.genome):\n",
        "      if random.random() < 0.5:\n",
        "          offspring_genome.append(gene2)\n",
        "      else:\n",
        "          offspring_genome.append(gene1)\n",
        "  return offspring_genome\n",
        "\n",
        "def xover2(ind1, ind2):\n",
        "  offspring_genome = []\n",
        "\n",
        "  if random.random() < 0.4:\n",
        "    for gene1, gene2 in zip(ind1.genome, ind2.genome):\n",
        "        if random.random() < 0.5:\n",
        "            offspring_genome.append(gene2)\n",
        "        else:\n",
        "            offspring_genome.append(gene1)\n",
        "  else:\n",
        "    cut_pos = [random.choice(range(GENES)) for _ in range(5)]\n",
        "    get_ind1 = True\n",
        "    for i, (gene1, gene2) in enumerate(zip(ind1.genome, ind2.genome)):\n",
        "      if i in cut_pos: get_ind1 = not get_ind1\n",
        "      if get_ind1:\n",
        "        offspring_genome.append(gene1)\n",
        "      else:\n",
        "        offspring_genome.append(gene2)\n",
        "\n",
        "  return offspring_genome\n",
        "\n",
        "xover = xover2\n",
        "\n",
        "pop_val = [random.choices([0,1], k=GENES) for _ in range(POP_SIZE)]\n",
        "pop = [Genotype(val, fitness(val), MAX_NUM_MUT) for val in pop_val]\n",
        "for epo in tqdm(range(EPO_SIZE)):\n",
        "  tourn = [random.choice(pop) for _ in range(TOURN_SIZE)]\n",
        "  parent = max(tourn, key=lambda x : x.fitness)\n",
        "\n",
        "  #epo_mut = ESP_MUT\n",
        "  epo_mut = parent.mutation\n",
        "  child_made_it = False\n",
        "\n",
        "  for off in range(OFF_SIZE):\n",
        "    child = copy.deepcopy(parent)\n",
        "\n",
        "    if random.random() < MUTATION_PROB:\n",
        "      child.genome = mutate(child, epo_mut)\n",
        "    else:\n",
        "      child.genome = xover(child, random.choice(tourn))\n",
        "\n",
        "    child.mutation = epo_mut\n",
        "    child.fitness = fitness(child.genome)\n",
        "\n",
        "    if best_ind is None or child.fitness > best_ind.fitness:\n",
        "      best_ind = child\n",
        "\n",
        "    worst = min(tourn, key=lambda x : x.fitness)\n",
        "    if child.fitness > worst.fitness:\n",
        "      #epo_mut = max(0.0001,epo_mut / ESP_MUT_FACT)\n",
        "      epo_mut = max(1,epo_mut - MAX_NUM_MUT_ADD)\n",
        "    else:\n",
        "      #epo_mut = min(1,epo_mut * ESP_MUT_FACT)\n",
        "      epo_mut = min(POP_SIZE,epo_mut + MAX_NUM_MUT_ADD)\n",
        "\n",
        "    pop.append(child)\n",
        "    pop = sorted(pop, key=lambda x: x.fitness, reverse=True)\n",
        "    pop = pop[:POP_SIZE]\n",
        "    if child in pop: child_made_it = True\n",
        "\n",
        "  if not child_made_it: parent.mutation = epo_mut\n",
        "  if epo % 80 == 0:\n",
        "    pop = pop[:SVR_SIZE]\n",
        "    new_pop_val = [random.choices([0,1], k=GENES) for _ in range(POP_SIZE - SVR_SIZE)]\n",
        "    pop = pop + [Genotype(val, fitness(val), MAX_NUM_MUT) for val in new_pop_val]\n",
        ""
      ],
      "metadata": {
        "colab": {
          "base_uri": "https://localhost:8080/"
        },
        "id": "Nr1GRKq6dSjE",
        "outputId": "c03a1b6f-a976-4465-c184-79eda22e9e5c"
      },
      "execution_count": 69,
      "outputs": [
        {
          "output_type": "stream",
          "name": "stderr",
          "text": [
            "100%|██████████| 10000/10000 [04:09<00:00, 40.10it/s]\n"
          ]
        }
      ]
    },
    {
      "cell_type": "code",
      "source": [
        "print(best_ind.fitness)"
      ],
      "metadata": {
        "colab": {
          "base_uri": "https://localhost:8080/"
        },
        "id": "dVqKfh9_dMWo",
        "outputId": "50eda73d-2a32-40b5-e095-7128116c8e41"
      },
      "execution_count": 70,
      "outputs": [
        {
          "output_type": "stream",
          "name": "stdout",
          "text": [
            "0.3399\n"
          ]
        }
      ]
    },
    {
      "cell_type": "code",
      "source": [
        "#Well, extinction is doin its job\n",
        "#Also adding an n cut xover helped\n",
        "\n",
        "#I still have to blacklist all my already created individuals: it will decrease my fitness calls and it matters just because it is part of my metrics\n",
        "\n",
        "#Then maybe I can try to see what happens if I suppose that my fitness is monotonic\n",
        "\n",
        "#Now I will try to make the number of cuts variable: dunno if increasing or decreasing it will help but I'll try to decrease it over epochs"
      ],
      "metadata": {
        "id": "0IZkg5Y8hTVv"
      },
      "execution_count": 47,
      "outputs": []
    },
    {
      "cell_type": "code",
      "source": [
        "#I will copy this 'cause fitness.calls has to be reset\n",
        "fitness = lab9_lib.make_problem(10)\n",
        "print(fitness.calls)"
      ],
      "metadata": {
        "colab": {
          "base_uri": "https://localhost:8080/"
        },
        "id": "wKIFTJNgMUw_",
        "outputId": "2be42364-ba9e-4486-812b-5d9a9b450bca"
      },
      "execution_count": 124,
      "outputs": [
        {
          "output_type": "stream",
          "name": "stdout",
          "text": [
            "0\n"
          ]
        }
      ]
    },
    {
      "cell_type": "code",
      "source": [
        "class Genotype:\n",
        "\n",
        "  def __init__(self, genome, fitness, mutation):\n",
        "    self.genome = genome\n",
        "    self.fitness = fitness\n",
        "    self.mutation = mutation\n"
      ],
      "metadata": {
        "id": "ZPDsUOVfAPTZ"
      },
      "execution_count": 125,
      "outputs": []
    },
    {
      "cell_type": "code",
      "source": [
        "GENES = 1000\n",
        "POP_SIZE = 20\n",
        "OFF_SIZE = 30\n",
        "TOURN_SIZE = 5\n",
        "\n",
        "SVR_SIZE = 10\n",
        "RAGNAROCK = 80\n",
        "\n",
        "EPO_SIZE = 10000\n",
        "MUTATION_PROB = 0.8\n",
        "\n",
        "MAX_NUM_MUT = 50\n",
        "MAX_NUM_MUT_ADD = 1\n",
        "\n",
        "best_ind = None\n",
        "blacklist = {}\n",
        "\n",
        "def mutate2(individual, epo_mut):\n",
        "  my_list = copy.deepcopy(individual.genome)\n",
        "  if random.random() < 0.9:\n",
        "    num_mutations = random.choice(range(epo_mut)) + 1\n",
        "  else:\n",
        "    num_mutations = random.choice(range(2)) + 1\n",
        "  for _ in range(num_mutations):\n",
        "    i = random.choice(range(len(my_list)))\n",
        "    my_list[i] = 1 - my_list[i]\n",
        "  return my_list\n",
        "\n",
        "mutate = mutate2\n",
        "\n",
        "def xover2(ind1, ind2):\n",
        "  offspring_genome = []\n",
        "\n",
        "  if random.random() < 0.2:\n",
        "    for gene1, gene2 in zip(ind1.genome, ind2.genome):\n",
        "        if random.random() < 0.5:\n",
        "            offspring_genome.append(gene2)\n",
        "        else:\n",
        "            offspring_genome.append(gene1)\n",
        "  else:\n",
        "    cut_pos = [random.choice(range(GENES)) for _ in range(5)]\n",
        "    get_ind1 = True\n",
        "    for i, (gene1, gene2) in enumerate(zip(ind1.genome, ind2.genome)):\n",
        "      if i in cut_pos: get_ind1 = not get_ind1\n",
        "      if get_ind1:\n",
        "        offspring_genome.append(gene1)\n",
        "      else:\n",
        "        offspring_genome.append(gene2)\n",
        "\n",
        "  return offspring_genome\n",
        "\n",
        "xover = xover2\n",
        "\n",
        "pop_val = [random.choices([0,1], k=GENES) for _ in range(POP_SIZE)]\n",
        "pop = [Genotype(val, fitness(val), MAX_NUM_MUT) for val in pop_val]\n",
        "for epo in tqdm(range(EPO_SIZE)):\n",
        "  tourn = [random.choice(pop) for _ in range(TOURN_SIZE)]\n",
        "  parent = max(tourn, key=lambda x : x.fitness)\n",
        "\n",
        "  epo_mut = parent.mutation\n",
        "  child_made_it = False\n",
        "\n",
        "  for off in range(OFF_SIZE):\n",
        "    child = copy.deepcopy(parent)\n",
        "\n",
        "    if random.random() < MUTATION_PROB:\n",
        "      child.genome = mutate(child, epo_mut)\n",
        "    else:\n",
        "      child.genome = xover(child, random.choice(tourn))\n",
        "\n",
        "    child.mutation = epo_mut\n",
        "    child_genome_tuple = tuple(child.genome)\n",
        "    if child_genome_tuple not in blacklist:\n",
        "      blacklist[child_genome_tuple] = child\n",
        "      child.fitness = fitness(child.genome)\n",
        "\n",
        "      if best_ind is None or child.fitness > best_ind.fitness:\n",
        "        best_ind = child\n",
        "\n",
        "      pop.append(child)\n",
        "      pop = sorted(pop, key=lambda x: x.fitness, reverse=True)\n",
        "      pop = pop[:POP_SIZE]\n",
        "      if child in pop: child_made_it = True\n",
        "\n",
        "    worst = min(tourn, key=lambda x : x.fitness)\n",
        "    if child_genome_tuple not in blacklist and child.fitness > worst.fitness:\n",
        "      epo_mut = max(1,epo_mut - MAX_NUM_MUT_ADD)\n",
        "    else:\n",
        "      epo_mut = min(POP_SIZE,epo_mut + MAX_NUM_MUT_ADD)\n",
        "\n",
        "  if not child_made_it: parent.mutation = epo_mut\n",
        "  if epo % RAGNAROCK == 0:\n",
        "    pop = pop[:SVR_SIZE]\n",
        "    new_pop_val = [random.choices([0,1], k=GENES) for _ in range(POP_SIZE - SVR_SIZE)]\n",
        "    pop = pop + [Genotype(val, fitness(val), MAX_NUM_MUT) for val in new_pop_val]\n",
        ""
      ],
      "metadata": {
        "colab": {
          "base_uri": "https://localhost:8080/"
        },
        "id": "XPDjHVSYAPCK",
        "outputId": "e7478f86-f4ca-4141-b452-7e2234dad7dd"
      },
      "execution_count": 133,
      "outputs": [
        {
          "output_type": "stream",
          "name": "stderr",
          "text": [
            "100%|██████████| 10000/10000 [06:29<00:00, 25.70it/s]\n"
          ]
        }
      ]
    },
    {
      "cell_type": "code",
      "source": [
        "print(best_ind.fitness, fitness.calls, best_ind.genome)"
      ],
      "metadata": {
        "colab": {
          "base_uri": "https://localhost:8080/"
        },
        "id": "KirXdwVvANpP",
        "outputId": "a1690be0-7f04-455a-c0a5-29e6a73eb54a"
      },
      "execution_count": 134,
      "outputs": [
        {
          "output_type": "stream",
          "name": "stdout",
          "text": [
            "0.335 772846 [0, 0, 1, 1, 0, 0, 1, 0, 1, 1, 0, 0, 1, 1, 0, 0, 1, 0, 1, 0, 0, 0, 1, 1, 0, 0, 1, 0, 1, 0, 0, 0, 1, 1, 0, 0, 1, 0, 1, 0, 0, 0, 0, 1, 0, 0, 1, 0, 1, 0, 0, 0, 1, 0, 0, 0, 1, 0, 1, 1, 0, 0, 1, 1, 0, 0, 0, 0, 1, 1, 0, 0, 1, 1, 0, 0, 0, 0, 0, 1, 0, 0, 1, 1, 0, 0, 0, 0, 0, 0, 0, 0, 1, 1, 0, 0, 1, 0, 0, 1, 0, 0, 1, 1, 0, 0, 0, 0, 1, 0, 0, 0, 0, 0, 0, 0, 0, 0, 0, 1, 0, 0, 0, 0, 0, 0, 0, 0, 0, 1, 0, 0, 1, 1, 0, 0, 0, 0, 1, 1, 0, 0, 1, 0, 0, 0, 1, 0, 1, 0, 0, 0, 1, 1, 0, 0, 1, 0, 1, 1, 0, 0, 1, 0, 0, 0, 0, 0, 1, 0, 0, 0, 1, 1, 0, 0, 0, 0, 0, 0, 0, 0, 0, 0, 0, 0, 1, 0, 1, 0, 0, 0, 1, 1, 0, 0, 1, 0, 0, 0, 0, 0, 0, 0, 0, 0, 0, 0, 1, 1, 0, 0, 0, 0, 0, 0, 1, 0, 1, 1, 0, 0, 0, 1, 0, 0, 1, 0, 1, 1, 0, 0, 1, 1, 0, 0, 1, 0, 1, 1, 0, 0, 0, 1, 0, 0, 1, 0, 0, 1, 0, 0, 1, 0, 0, 0, 1, 0, 1, 0, 0, 0, 1, 1, 0, 0, 0, 0, 1, 0, 0, 0, 0, 1, 0, 0, 1, 0, 1, 1, 0, 0, 0, 1, 0, 0, 1, 0, 0, 1, 0, 0, 1, 1, 0, 0, 1, 0, 1, 1, 0, 0, 0, 1, 0, 0, 0, 0, 1, 1, 0, 0, 1, 0, 0, 0, 0, 0, 0, 1, 0, 0, 1, 1, 0, 0, 1, 0, 0, 1, 0, 0, 1, 1, 0, 0, 1, 0, 1, 1, 0, 0, 1, 0, 0, 0, 0, 0, 1, 0, 0, 0, 0, 0, 0, 0, 1, 0, 0, 1, 0, 0, 1, 1, 0, 0, 1, 0, 1, 1, 0, 0, 1, 1, 0, 0, 1, 0, 1, 1, 0, 0, 1, 1, 0, 0, 1, 0, 1, 1, 0, 0, 1, 0, 0, 0, 1, 0, 0, 1, 0, 0, 1, 0, 0, 0, 1, 0, 0, 1, 0, 0, 1, 1, 0, 0, 0, 0, 0, 1, 0, 0, 1, 1, 0, 0, 1, 0, 0, 1, 0, 0, 1, 1, 0, 0, 1, 0, 1, 1, 0, 0, 0, 0, 0, 0, 1, 0, 1, 1, 0, 0, 0, 1, 0, 0, 1, 0, 0, 0, 0, 0, 0, 1, 0, 0, 1, 0, 1, 1, 0, 0, 0, 1, 0, 0, 0, 0, 1, 1, 0, 0, 0, 1, 0, 0, 0, 0, 0, 0, 0, 0, 1, 1, 0, 0, 0, 0, 1, 0, 0, 0, 1, 1, 0, 0, 1, 0, 1, 1, 0, 0, 1, 1, 0, 0, 1, 0, 1, 1, 0, 0, 0, 0, 0, 0, 0, 0, 0, 0, 0, 0, 0, 1, 0, 0, 1, 0, 0, 0, 0, 0, 1, 0, 0, 0, 1, 0, 0, 1, 0, 0, 1, 1, 0, 0, 1, 0, 0, 1, 0, 0, 1, 1, 0, 0, 0, 0, 0, 0, 0, 0, 1, 1, 0, 0, 1, 0, 1, 0, 0, 0, 1, 0, 0, 0, 0, 0, 1, 1, 0, 0, 1, 1, 0, 0, 0, 0, 1, 1, 0, 0, 1, 1, 0, 0, 1, 0, 1, 1, 0, 0, 1, 1, 0, 0, 0, 0, 1, 0, 0, 0, 1, 1, 0, 0, 0, 0, 1, 1, 0, 0, 1, 0, 0, 0, 1, 0, 1, 1, 0, 0, 1, 1, 0, 0, 1, 0, 0, 1, 0, 0, 1, 1, 0, 0, 1, 0, 1, 0, 0, 0, 1, 1, 0, 0, 1, 0, 1, 0, 0, 0, 1, 0, 0, 0, 0, 0, 1, 1, 0, 0, 1, 0, 0, 0, 0, 0, 0, 0, 0, 0, 0, 0, 0, 0, 0, 0, 1, 1, 0, 0, 0, 0, 0, 0, 1, 0, 1, 1, 0, 0, 1, 1, 0, 0, 1, 0, 1, 1, 0, 0, 0, 1, 0, 0, 0, 0, 1, 1, 0, 0, 1, 1, 0, 0, 1, 0, 1, 1, 0, 0, 1, 0, 0, 0, 1, 0, 0, 1, 0, 0, 0, 0, 0, 0, 1, 0, 1, 1, 0, 0, 0, 1, 0, 0, 1, 0, 1, 0, 0, 0, 0, 1, 0, 0, 1, 0, 1, 0, 0, 0, 1, 0, 0, 0, 1, 0, 1, 1, 0, 0, 1, 0, 0, 0, 1, 0, 1, 1, 0, 0, 0, 1, 0, 0, 1, 0, 1, 0, 0, 0, 0, 1, 0, 0, 1, 0, 1, 1, 0, 0, 1, 1, 0, 0, 1, 0, 1, 1, 0, 0, 1, 1, 0, 0, 1, 0, 1, 0, 0, 0, 1, 1, 0, 0, 1, 0, 1, 1, 0, 0, 0, 0, 0, 0, 0, 0, 0, 1, 0, 0, 1, 1, 0, 0, 1, 0, 1, 1, 0, 0, 1, 1, 0, 0, 1, 0, 0, 0, 0, 0, 0, 1, 0, 0, 0, 0, 0, 1, 0, 0, 1, 1, 0, 0, 0, 0, 0, 1, 0, 0, 1, 0, 0, 0, 1, 0, 0, 1, 0, 0, 0, 0, 0, 0, 1, 0, 1, 1, 0, 0, 1, 0, 0, 0, 1, 0, 1, 1, 0, 0, 0, 0, 0, 0, 0, 0, 0, 1, 0, 0, 1, 1, 0, 0, 1, 0, 1, 0, 0, 0, 1, 1, 0, 0, 0, 0, 1, 0, 0, 0, 0, 1, 0, 0, 1, 0, 1, 1, 0, 0, 0, 1, 0, 0, 1, 0, 1, 0, 0, 0, 1, 1, 0, 0, 1, 0, 0, 1, 0, 0, 1, 0, 0, 0, 1, 0, 1, 1]\n"
          ]
        }
      ]
    },
    {
      "cell_type": "markdown",
      "source": [],
      "metadata": {
        "id": "uH64wCjEny9y"
      }
    }
  ],
  "metadata": {
    "kernelspec": {
      "display_name": "ci-fLJ3OwGs-py3.12",
      "language": "python",
      "name": "python3"
    },
    "language_info": {
      "codemirror_mode": {
        "name": "ipython",
        "version": 3
      },
      "file_extension": ".py",
      "mimetype": "text/x-python",
      "name": "python",
      "nbconvert_exporter": "python",
      "pygments_lexer": "ipython3",
      "version": "3.12.0"
    },
    "colab": {
      "provenance": []
    }
  },
  "nbformat": 4,
  "nbformat_minor": 0
}