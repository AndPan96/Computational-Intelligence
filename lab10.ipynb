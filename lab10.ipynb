{
  "cells": [
    {
      "cell_type": "markdown",
      "metadata": {
        "id": "3NnNWpVaitZX"
      },
      "source": [
        "Copyright **`(c)`** 2023 Giovanni Squillero `<giovanni.squillero@polito.it>`  \n",
        "[`https://github.com/squillero/computational-intelligence`](https://github.com/squillero/computational-intelligence)  \n",
        "Free for personal or classroom use; see [`LICENSE.md`](https://github.com/squillero/computational-intelligence/blob/master/LICENSE.md) for details.  "
      ]
    },
    {
      "cell_type": "markdown",
      "metadata": {
        "id": "u8dEg6mAitZY"
      },
      "source": [
        "# LAB10\n",
        "\n",
        "Use reinforcement learning to devise a tic-tac-toe player.\n",
        "\n",
        "### Deadlines:\n",
        "\n",
        "* Submission: [Dies Natalis Solis Invicti](https://en.wikipedia.org/wiki/Sol_Invictus)\n",
        "* Reviews: [Befana](https://en.wikipedia.org/wiki/Befana)\n",
        "\n",
        "Notes:\n",
        "\n",
        "* Reviews will be assigned  on Monday, December 4\n",
        "* You need to commit in order to be selected as a reviewer (ie. better to commit an empty work than not to commit)"
      ]
    },
    {
      "cell_type": "markdown",
      "source": [
        "###Got the game code from the Quixo code and just changed some stuff"
      ],
      "metadata": {
        "id": "_6h3JPECgb4-"
      }
    },
    {
      "cell_type": "code",
      "execution_count": 41,
      "metadata": {
        "id": "i3lZdW2kitZZ"
      },
      "outputs": [],
      "source": [
        "from abc import ABC, abstractmethod\n",
        "from copy import deepcopy\n",
        "from enum import Enum\n",
        "import numpy as np\n",
        "import random as rand\n",
        "from tqdm import tqdm\n",
        "import matplotlib.pyplot as plt\n",
        "\n",
        "\n",
        "# Rules on PDF\n",
        "\n",
        "class Player(ABC):\n",
        "    def __init__(self) -> None:\n",
        "        '''You can change this for your player if you need to handle state/have memory'''\n",
        "        pass\n",
        "\n",
        "    @abstractmethod\n",
        "    def make_move(self, game: 'Game') -> tuple[tuple[int, int]]:\n",
        "        '''\n",
        "        game: the Tris game. You can use it to override the current game with yours, but everything is evaluated by the main game\n",
        "        return values: this method shall return a tuple of X,Y positions\n",
        "        '''\n",
        "        pass\n",
        "\n",
        "\n",
        "class Game(object):\n",
        "    def __init__(self) -> None:\n",
        "        self._board = np.ones((3, 3), dtype=np.uint8) * -1\n",
        "\n",
        "    def get_board(self):\n",
        "        '''\n",
        "        Returns the board\n",
        "        '''\n",
        "        return deepcopy(self._board)\n",
        "\n",
        "    def print(self):\n",
        "        '''Prints the board. -1 are neutral pieces, 0 are pieces of player 0, 1 pieces of player 1'''\n",
        "        print(self._board)\n",
        "\n",
        "    def check_winner(self) -> int:\n",
        "        '''Check the winner. Returns the player ID of the winner if any, otherwise returns -1'''\n",
        "        # for each row\n",
        "        for x in range(self._board.shape[0]):\n",
        "            # if a player has completed an entire row\n",
        "            if self._board[x, 0] != -1 and all(self._board[x, :] == self._board[x, 0]):\n",
        "                # return the relative id\n",
        "                return self._board[x, 0]\n",
        "        # for each column\n",
        "        for y in range(self._board.shape[1]):\n",
        "            # if a player has completed an entire column\n",
        "            if self._board[0, y] != -1 and all(self._board[:, y] == self._board[0, y]):\n",
        "                # return the relative id\n",
        "                return self._board[0, y]\n",
        "        # if a player has completed the principal diagonal\n",
        "        if self._board[0, 0] != -1 and all(\n",
        "            [self._board[x, x]\n",
        "                for x in range(self._board.shape[0])] == self._board[0, 0]\n",
        "        ):\n",
        "            # return the relative id\n",
        "            return self._board[0, 0]\n",
        "        # if a player has completed the secondary diagonal\n",
        "        if self._board[0, -1] != -1 and all(\n",
        "            [self._board[x, -(x + 1)]\n",
        "             for x in range(self._board.shape[0])] == self._board[0, -1]\n",
        "        ):\n",
        "            # return the relative id\n",
        "            return self._board[0, -1]\n",
        "        return -1\n",
        "\n",
        "    def play(self, player1: Player, player2: Player) -> int:\n",
        "        '''Play the game. Returns the winning player'''\n",
        "        players = [player1, player2]\n",
        "        current_player_idx = 1\n",
        "        winner = -1\n",
        "        while winner < 0:\n",
        "            if -1 not in self.get_board().ravel():\n",
        "              winner = -2\n",
        "              break\n",
        "            current_player_idx += 1\n",
        "            current_player_idx %= len(players)\n",
        "            ok = False\n",
        "            while not ok:\n",
        "                from_pos = players[current_player_idx].make_move(self)\n",
        "                ok = self._move(from_pos, current_player_idx)\n",
        "            winner = self.check_winner()\n",
        "        return winner\n",
        "\n",
        "    def _move(self, from_pos: tuple[int, int], player_id: int) -> bool:\n",
        "        '''Perform a move'''\n",
        "        if player_id > 2:\n",
        "            return False\n",
        "        # Oh God, Numpy arrays\n",
        "        prev_value = deepcopy(self._board[(from_pos[1], from_pos[0])])\n",
        "\n",
        "        acceptable = False\n",
        "        if self._board[from_pos] < 0:\n",
        "          self._board[from_pos] = player_id\n",
        "          acceptable = True\n",
        "        return acceptable"
      ]
    },
    {
      "cell_type": "markdown",
      "source": [
        "###Added a subclass for training"
      ],
      "metadata": {
        "id": "gIC1cv0bgqNG"
      }
    },
    {
      "cell_type": "code",
      "source": [
        "class TrainingGame(Game):\n",
        "  def __init__(self) -> None:\n",
        "    super().__init__()\n",
        "\n",
        "  def play(self, player1: Player, player2: Player) -> int:\n",
        "        '''Play the game. Returns the winning player'''\n",
        "        players = [player1, player2]\n",
        "        current_player_idx = 1\n",
        "        winner = -1\n",
        "\n",
        "        while winner < 0:\n",
        "            if -1 not in self.get_board().ravel():\n",
        "              winner =-2\n",
        "              break\n",
        "            #get board old state\n",
        "            old_state = self.get_board()\n",
        "\n",
        "            current_player_idx += 1\n",
        "            current_player_idx %= len(players)\n",
        "            ok = False\n",
        "            while not ok:\n",
        "                from_pos = players[current_player_idx].make_move(self)\n",
        "                ok = self._move(from_pos, current_player_idx)\n",
        "                if not ok and isinstance(players[current_player_idx], MyPlayer):\n",
        "                  #my model contains also invalid moves so I wanna learn not to do them\n",
        "                  invalid_move_state = self.get_board()\n",
        "                  reward = players[current_player_idx].compute_reward(is_winner=-1 , new_state=invalid_move_state)\n",
        "                  #print(\"rew\", reward)\n",
        "                  players[current_player_idx].get_experience(old_state, from_pos, reward, invalid_move_state, False )\n",
        "\n",
        "            winner = self.check_winner()\n",
        "\n",
        "            if isinstance(players[current_player_idx], MyPlayer):\n",
        "              #get board new state\n",
        "              new_state = self.get_board()\n",
        "              #1 here the player should get the reward\n",
        "              winval = 1 if winner == current_player_idx else (0 if winner == (current_player_idx + 1) % len(players) else -1)\n",
        "              reward = players[current_player_idx].compute_reward( winval, new_state)\n",
        "              #print(\"rew\", reward, \"winner\", winner)\n",
        "              #print(\"play as \", current_player_idx, \":\",old_state.ravel(), \"-\",new_state.ravel())\n",
        "              #2 here I would be capable of gettin my new step record, to put it into my replay memory\n",
        "              players[current_player_idx].get_experience(old_state, from_pos, reward, new_state, winner!=-1 )\n",
        "        return winner"
      ],
      "metadata": {
        "id": "wLOaDSfBvebJ"
      },
      "execution_count": 42,
      "outputs": []
    },
    {
      "cell_type": "code",
      "source": [
        "class RandomPlayer(Player):\n",
        "    def __init__(self) -> None:\n",
        "        super().__init__()\n",
        "\n",
        "    def make_move(self, game: 'Game') -> tuple[tuple[int, int]]:\n",
        "        from_pos = (rand.randint(0, 2), rand.randint(0, 2))\n",
        "        return from_pos"
      ],
      "metadata": {
        "id": "kBbMGNQrmEMg"
      },
      "execution_count": 43,
      "outputs": []
    },
    {
      "cell_type": "markdown",
      "source": [
        "###This is my model: I'll put it inside my player\n",
        "\n",
        "###It's a double Q Learning Model based with Replay Memory\n",
        "\n",
        "###MyPlayer can be created as untrained, and then it goes completely random.\n",
        "###If created as trained, it will start training against RandomPlayer.\n",
        "###Replay Memory uncorrelates discovery from learning, making exploration less biased by the learning policy.\n",
        "###The usage of two different tables, for extimation and as target, avoid the model following its own tail, getting learning faster, if tuned properly.\n",
        "###I also use a Discount Factor and a Learning Rate, that I unforgivably keep constant.\n",
        "### Special thanks to Davide Vitabile s330509: he pointed out that he had encountered a problem with next state Q values, because they were the starting states of the opponent. I found out that I had indeed the same issue and I just flipped the sign of the new states as if my opponent would play optimal. It increased performance so I kept this sort of min max Q Learning approach."
      ],
      "metadata": {
        "id": "RFY4O87Qg572"
      }
    },
    {
      "cell_type": "code",
      "source": [
        "class MyQTable():\n",
        "  def __init__(self, num_states, num_actions) -> None:\n",
        "    super().__init__()\n",
        "    self.table = np.zeros((num_states, num_actions), dtype=float)\n",
        "\n",
        "  def model_action(self, states):\n",
        "    return np.array([deepcopy(self.table[index]) for index in states])\n",
        "\n",
        "class MyPlayer(Player):\n",
        "    def __init__(self, trained: bool = False) -> None:\n",
        "        super().__init__()\n",
        "        #for the sake of defining stuff\n",
        "        self.last_status = None\n",
        "        self.replay_mem = {}\n",
        "        self.REPLAY_MEM_SIZE = 512\n",
        "        self.exploration_rate = None\n",
        "        self.model = None\n",
        "\n",
        "        # if I want to use a trained model\n",
        "        if trained:\n",
        "            self.model = self.train()\n",
        "        # if I don't want to use a trained model\n",
        "        else:\n",
        "            self.make_move = self.make_move_random\n",
        "\n",
        "    def compute_reward(self, is_winner, new_state=None):\n",
        "      #notto eleganto way to get the reward: winner should be decoupled but I had to check stuff twice...\n",
        "      new_state = np.ravel(new_state)\n",
        "      if is_winner==1:\n",
        "        return 10\n",
        "      #this if I make a not allowed move\n",
        "      elif self.last_status is not None and self.last_status is not None and np.all(self.last_status == new_state):\n",
        "        return -1\n",
        "      elif is_winner == 0:\n",
        "        return -10\n",
        "      else:\n",
        "        return 0\n",
        "\n",
        "    def get_experience(self, old_state, action, reward, new_state, is_terminal):\n",
        "      action = 3 * action[0] + action[1]\n",
        "      old_state = self.get_qt_id(np.ravel(old_state))\n",
        "      new_state = self.get_qt_id(np.ravel(new_state))\n",
        "      key = (old_state, new_state)\n",
        "      self.replay_mem[key] = tuple([old_state, action, reward, new_state, is_terminal])\n",
        "\n",
        "      while len(self.replay_mem) >= self.REPLAY_MEM_SIZE:\n",
        "          oldest_key = next(iter(self.replay_mem))\n",
        "          del self.replay_mem[oldest_key]\n",
        "\n",
        "    def get_qt_id(self, state):\n",
        "      model_input = 0\n",
        "      for tile in state:\n",
        "        model_input *= 3\n",
        "        model_input += 0 if tile == -1 else (1 if tile == 0 else 2)\n",
        "      return model_input\n",
        "\n",
        "    def make_move(self, game: 'Game') -> tuple[tuple[int, int]]:\n",
        "        #I preprocess my input by flattening the state\n",
        "        board_copy = game.get_board()\n",
        "        board_copy = np.ravel(board_copy)\n",
        "\n",
        "        #if I have already tried my deterministic choice\n",
        "        # and the state is the same, it wasn't allowed so I'll go random or get stuck\n",
        "        if np.all(self.last_status == board_copy):\n",
        "            return self.make_move_random(game)\n",
        "        self.last_status = board_copy\n",
        "\n",
        "        if rand.random() > self.exploration_rate:\n",
        "          from_pos = self.model.model_action(np.array([self.get_qt_id(board_copy)])).argmax()\n",
        "        else:\n",
        "          return self.make_move_random(game)\n",
        "\n",
        "        #bring the format back to the one of the game\n",
        "        if from_pos < 3:\n",
        "            from_pos = tuple([0, from_pos])\n",
        "        elif 2 < from_pos < 6:\n",
        "            from_pos = tuple([1, from_pos - 3])\n",
        "        else:\n",
        "            from_pos = tuple([2, from_pos - 6])\n",
        "\n",
        "        return from_pos\n",
        "\n",
        "    def make_move_random(self, game: 'Game') -> tuple[tuple[int, int]]:\n",
        "        from_pos = (rand.randint(0, 2), rand.randint(0, 2))\n",
        "        return from_pos\n",
        "\n",
        "    def train(self, num_episodes = 500_000, player2=RandomPlayer()) -> MyQTable:\n",
        "        if self.model is None:\n",
        "          new_model = MyQTable(3**9, 9)\n",
        "          self.model = new_model\n",
        "        if True:\n",
        "            #4 the sake of visualization\n",
        "            wins = []\n",
        "            #setup the training\n",
        "            DISCOUNT_RATE = 0.99\n",
        "            TARGET_UP_RATE = 50\n",
        "            learning_rate = 0.01\n",
        "            MAX_EX_RATE = 1\n",
        "            MIN_EX_RATE = 0.05\n",
        "            EX_RATE_DECAY = 0.000003\n",
        "            self.exploration_rate = MAX_EX_RATE\n",
        "\n",
        "            #accessory data structure for training\n",
        "            self.replay_mem = {}\n",
        "            target_model = deepcopy(self.model)\n",
        "\n",
        "            for episode in tqdm(range(num_episodes)):\n",
        "                mygame = TrainingGame()\n",
        "                #print(\"episode \", episode)\n",
        "                if episode % 2 == 0:\n",
        "                    winner = mygame.play(player2, self)\n",
        "                else:\n",
        "                    winner = mygame.play(self, player2)\n",
        "\n",
        "                #print(\"ep\",episode,\" plays 2nd if 0:\",episode % 2,\" winner:\",winner)\n",
        "                wins.append(episode % 2 != winner)\n",
        "                #print(\"winner\",winner + 1)\n",
        "\n",
        "                random_keys = rand.choices(list(self.replay_mem.keys()), k=128)\n",
        "                states, actions, rewards, next_states, dones = [], [], [], [], []\n",
        "                for key in random_keys:\n",
        "                  random_obs = self.replay_mem[key]\n",
        "                  states.append(random_obs[0])\n",
        "                  actions.append(random_obs[1])\n",
        "                  rewards.append(random_obs[2])\n",
        "                  next_states.append(random_obs[3])\n",
        "                  dones.append(random_obs[4])\n",
        "                rewards = np.array(rewards)\n",
        "                dones = np.array(dones)\n",
        "\n",
        "                #q values of the current state s_i\n",
        "                q_values_a1 = self.model.model_action(states)\n",
        "\n",
        "                #uses a1_i to get just the q values of interest\n",
        "                q_values_selected_a1 = np.array([q_values_a1[i][action] for i, action in enumerate(actions)])\n",
        "\n",
        "                #target q values using the Bellman equation\n",
        "                target_q_values_next_states_a1 = target_model.model_action(next_states)\n",
        "\n",
        "                #select the maximum q value for each action in the next state\n",
        "                max_q_values_next_states_a1 = np.array([max(inner_list) for inner_list in target_q_values_next_states_a1])\n",
        "\n",
        "                #get target q values using the Bellman equation\n",
        "                target_q_values_a1 = rewards + (1 - dones) * DISCOUNT_RATE * -max_q_values_next_states_a1\n",
        "\n",
        "                #update the model\n",
        "                for i, batch_element in enumerate(zip(states, actions)):\n",
        "                  mystate, myaction = batch_element\n",
        "                  self.model.table[mystate, myaction] = (1 - learning_rate) * q_values_selected_a1[i] + learning_rate *  target_q_values_a1[i]\n",
        "\n",
        "                #once in a while I update the target network\n",
        "                if episode % TARGET_UP_RATE == 0:\n",
        "                    target_model = deepcopy(self.model)\n",
        "                #update the exploration rate\n",
        "                self.exploration_rate = MIN_EX_RATE + (MAX_EX_RATE - MIN_EX_RATE) * np.exp(-EX_RATE_DECAY*episode)\n",
        "        #plot the training : actually wins + draws\n",
        "        win_size = 1000\n",
        "        # avg_wins = [sum(wins[i: i + win_size]) / win_size\n",
        "        #             for i, _ in enumerate(wins[win_size - 1:])]\n",
        "        avg_wins = [sum(wins[i * win_size : (i + 1) * win_size]) / win_size\n",
        "                     for i in range(int(len(wins) / win_size))]\n",
        "        plt.plot(range(len(avg_wins)), avg_wins)\n",
        "        plt.show()\n",
        "        #post training stuff\n",
        "        self.exploration_rate = 0\n",
        "        return self.model\n"
      ],
      "metadata": {
        "id": "-nyFaJtNmPD2"
      },
      "execution_count": 161,
      "outputs": []
    },
    {
      "cell_type": "markdown",
      "source": [
        "###This wants to be a sort of Curriculum Learning:\n",
        "###My model also consider invalid moves, so it has to learn to play at first.\n",
        "###It's not really CL because I'm not changing the reward function but I am using a random player as opponent to maximize variability in the scenarios that my agent will come through."
      ],
      "metadata": {
        "id": "dt5hmgEvjKv6"
      }
    },
    {
      "cell_type": "code",
      "source": [
        "g = Game()\n",
        "player1 = MyPlayer(trained=True)\n",
        "player2 = RandomPlayer()\n",
        "player3 = deepcopy(player1)\n",
        "#print(player1.replay_mem)\n"
      ],
      "metadata": {
        "colab": {
          "base_uri": "https://localhost:8080/",
          "height": 447
        },
        "id": "WFQaPkI092QG",
        "outputId": "49afe434-2283-4d3a-9560-591165082782"
      },
      "execution_count": 162,
      "outputs": [
        {
          "output_type": "stream",
          "name": "stderr",
          "text": [
            "100%|██████████| 500000/500000 [25:39<00:00, 324.77it/s]\n"
          ]
        },
        {
          "output_type": "display_data",
          "data": {
            "text/plain": [
              "<Figure size 640x480 with 1 Axes>"
            ],
            "image/png": "[encoded data removed]"
          },
          "metadata": {}
        }
      ]
    },
    {
      "cell_type": "code",
      "source": [
        "print(player1.model.table[0])"
      ],
      "metadata": {
        "id": "NglqpCaWB_BC",
        "colab": {
          "base_uri": "https://localhost:8080/"
        },
        "outputId": "d3d92260-4987-4efb-d412-1757381d216f"
      },
      "execution_count": null,
      "outputs": [
        {
          "output_type": "stream",
          "name": "stdout",
          "text": [
            "[0. 0. 0. 0. 0. 0. 0. 0. 0.]\n"
          ]
        }
      ]
    },
    {
      "cell_type": "markdown",
      "source": [
        "###I set Exploration Rate to .1 to my opponent because it will make it play 10% of the time random, being it a copy of my trained agent.\n",
        "###I also tried to let it be fully exploitative but then my model starts going worse against the RandomPlayer."
      ],
      "metadata": {
        "id": "OfFRxcGvj8b1"
      }
    },
    {
      "cell_type": "code",
      "source": [
        "g = Game()\n",
        "player3.exploration_rate = .1\n",
        "player1.train(player2=player3)\n",
        "print(player1.model.table[0])\n",
        "print(player1.replay_mem)"
      ],
      "metadata": {
        "colab": {
          "base_uri": "https://localhost:8080/",
          "height": 502
        },
        "id": "TtDjBpvBRFTx",
        "outputId": "d86740d8-401b-4103-f6e3-d0ef8babac75"
      },
      "execution_count": 168,
      "outputs": [
        {
          "output_type": "stream",
          "name": "stderr",
          "text": [
            "100%|██████████| 500000/500000 [31:14<00:00, 266.79it/s]\n"
          ]
        },
        {
          "output_type": "display_data",
          "data": {
            "text/plain": [
              "<Figure size 640x480 with 1 Axes>"
            ],
            "image/png": "[encoded data removed]"
          },
          "metadata": {}
        },
        {
          "output_type": "stream",
          "name": "stdout",
          "text": [
            "[0. 0. 0. 0. 0. 0. 0. 0. 0.]\n",
            "{(1485, 1488): (1485, 7, 0, 1488, False), (14610, 16797): (14610, 1, 0, 16797, False), (16959, 16960): (16959, 8, 0, 16960, False), (10938, 10956): (10938, 6, 0, 10956, False), (11685, 11847): (11685, 4, 0, 11847, False), (12090, 12144): (12090, 5, 0, 12144, False), (10863, 10863): (10863, 1, -1, 10863, False), (7471, 7477): (7471, 7, 0, 7477, False), (8964, 8964): (8964, 1, -1, 8964, False), (8964, 8967): (8964, 7, 0, 8967, False), (0, 6561): (0, 0, 0, 6561, False), (9396, 10125): (9396, 2, 10, 10125, True), (249, 2436): (249, 1, 0, 2436, False), (15558, 15639): (15558, 4, 0, 15639, False), (10881, 10884): (10881, 7, 0, 10884, False), (11831, 12074): (11831, 3, 0, 12074, False), (12092, 12119): (12092, 5, 0, 12119, False), (7191, 7197): (7191, 7, 0, 7197, False), (8916, 9645): (8916, 2, 10, 9645, True), (6724, 11098): (6724, 1, 0, 11098, False), (11101, 11119): (11101, 6, 0, 11119, False), (7292, 7292): (7292, 2, -1, 7292, False), (7292, 7310): (7292, 6, 0, 7310, False), (0, 2187): (0, 1, 0, 2187, False), (15309, 15552): (15309, 3, 0, 15552, False), (15714, 15741): (15714, 5, 0, 15741, False), (11675, 11729): (11675, 5, 0, 11729, False), (6723, 6732): (6723, 6, 0, 6732, False), (13080, 13080): (13080, 1, -1, 13080, False), (13080, 13081): (13080, 8, 10, 13081, True), (10377, 10431): (10377, 5, 0, 10431, False), (7310, 9497): (7310, 1, 10, 9497, True), (11098, 11107): (11098, 6, 0, 11107, False), (10791, 10794): (10791, 7, 10, 10794, True), (6561, 6561): (6561, 0, -1, 6561, False), (6624, 8082): (6624, 2, 0, 8082, False), (10379, 10406): (10379, 5, 0, 10406, False), (10892, 10895): (10892, 7, 0, 10895, False), (1, 163): (1, 4, 0, 163, False), (2187, 15309): (2187, 0, 0, 15309, False), (11119, 11848): (11119, 2, 0, 11848, False), (11902, 12145): (11902, 3, 0, 12145, False), (11848, 11848): (11848, 8, -1, 11848, False), (11848, 12334): (11848, 3, 0, 12334, False), (10863, 10866): (10863, 7, 0, 10866, False), (16443, 16445): (16443, 8, 10, 16445, True), (8931, 10389): (8931, 2, 10, 10389, True), (7191, 11565): (7191, 1, 0, 11565, False), (10864, 10864): (10864, 2, -1, 10864, False), (2189, 2918): (2189, 2, 0, 2918, False), (16040, 16121): (16040, 4, 0, 16121, False), (16139, 16142): (16139, 7, 10, 16142, True), (10944, 11430): (10944, 3, 0, 11430, False), (11511, 12969): (11511, 2, 0, 12969, False), (6966, 6968): (6966, 8, 0, 6968, False), (8928, 9657): (8928, 2, 10, 9657, True), (11101, 11101): (11101, 4, -1, 11101, False), (11101, 11587): (11101, 3, 0, 11587, False), (13203, 15390): (13203, 1, 0, 15390, False), (15396, 15639): (15396, 3, 0, 15639, False), (15693, 16422): (15693, 2, 0, 16422, False), (16440, 16441): (16440, 8, 0, 16441, False), (6561, 7047): (6561, 3, 0, 7047, False), (12231, 12285): (12231, 5, 0, 12285, False), (12315, 12315): (12315, 1, -1, 12315, False), (12315, 12342): (12315, 5, 0, 12342, False), (12344, 12353): (12344, 6, 0, 12353, False), (10368, 10369): (10368, 8, 0, 10369, False), (11511, 11513): (11511, 8, 0, 11513, False), (11540, 12998): (11540, 2, 0, 12998, False), (0, 3): (0, 7, 0, 3, False), (4422, 4422): (4422, 5, -1, 4422, False), (4422, 4503): (4422, 4, 0, 4503, False), (4989, 4989): (4989, 1, -1, 4989, False), (4989, 4990): (4989, 8, 0, 4990, False), (12735, 12762): (12735, 5, 10, 12762, True), (8929, 10387): (8929, 2, 10, 10387, True), (4377, 4386): (4377, 6, 0, 4386, False), (4388, 10949): (4388, 0, 0, 10949, False), (11435, 12164): (11435, 2, 0, 12164, False), (12326, 12353): (12326, 5, 0, 12353, False), (9384, 9384): (9384, 7, -1, 9384, False), (9384, 10842): (9384, 2, 0, 10842, False), (13365, 15552): (13365, 1, 0, 15552, False), (15715, 15715): (15715, 4, -1, 15715, False), (15715, 15733): (15715, 6, 0, 15733, False), (16462, 16516): (16462, 5, 0, 16516, False), (7241, 9428): (7241, 1, 0, 9428, False), (10886, 10895): (10886, 6, 0, 10895, False), (15909, 15918): (15909, 6, 0, 15918, False), (17376, 17376): (17376, 2, -1, 17376, False), (17376, 17377): (17376, 8, 0, 17377, False), (6732, 6738): (6732, 7, 0, 6738, False), (15714, 15723): (15714, 6, 0, 15723, False), (8910, 8910): (8910, 0, -1, 8910, False), (7245, 7247): (7245, 8, 0, 7247, False), (9434, 10892): (9434, 2, 0, 10892, False), (11196, 11277): (11196, 4, 0, 11277, False), (12740, 12767): (12740, 5, 10, 12767, True), (8280, 8280): (8280, 6, -1, 8280, False), (8280, 8281): (8280, 8, 0, 8281, False), (10992, 10993): (10992, 8, 0, 10993, False), (11479, 11560): (11479, 4, 10, 11560, True), (7452, 11826): (7452, 1, 0, 11826, False), (11829, 11829): (11829, 4, -1, 11829, False), (11829, 11847): (11829, 6, 0, 11847, False), (13203, 13212): (13203, 6, 0, 13212, False), (14670, 16857): (14670, 1, 0, 16857, False), (17160, 17160): (17160, 2, -1, 17160, False), (7257, 7986): (7257, 2, 0, 7986, False), (7988, 10175): (7988, 1, 10, 10175, True), (10369, 10387): (10369, 6, 10, 10387, True), (11805, 11814): (11805, 6, 10, 11814, True), (11433, 11435): (11433, 8, 0, 11435, False), (12164, 12326): (12164, 4, 0, 12326, False), (489, 490): (489, 8, 0, 490, False), (508, 7069): (508, 0, 0, 7069, False), (7231, 7231): (7231, 6, -1, 7231, False), (7231, 7258): (7231, 5, 0, 7258, False), (11826, 11829): (11826, 7, 0, 11829, False), (11675, 12161): (11675, 3, 0, 12161, False), (12164, 12164): (12164, 1, -1, 12164, False), (17173, 17182): (17173, 6, 0, 17182, False), (10719, 10719): (10719, 2, -1, 10719, False), (10818, 10820): (10818, 8, 0, 10820, False), (11847, 11847): (11847, 7, -1, 11847, False), (11847, 11874): (11847, 5, 0, 11874, False), (11876, 12119): (11876, 3, 0, 12119, False), (10890, 10892): (10890, 8, 0, 10892, False), (10896, 10897): (10896, 8, 0, 10897, False), (81, 13203): (81, 0, 0, 13203, False), (15390, 15396): (15390, 7, 0, 15396, False), (15639, 15693): (15639, 5, 0, 15693, False), (15694, 17152): (15694, 2, 0, 17152, False), (11829, 12315): (11829, 3, 0, 12315, False), (12342, 12344): (12342, 8, 0, 12344, False), (0, 729): (0, 2, 0, 729, False), (891, 7452): (891, 0, 0, 7452, False), (10896, 10896): (10896, 7, -1, 10896, False), (6616, 6778): (6616, 4, 0, 6778, False), (7021, 7039): (7021, 6, 0, 7039, False), (7768, 7768): (7768, 4, -1, 7768, False), (7768, 12142): (7768, 1, 0, 12142, False), (11831, 11858): (11831, 5, 0, 11858, False), (6984, 7713): (6984, 2, 0, 7713, False), (12087, 12090): (12087, 7, 0, 12090, False), (13125, 13134): (13125, 6, 0, 13134, False), (13136, 13136): (13136, 8, -1, 13136, False), (13136, 13379): (13136, 3, 0, 13379, False), (6582, 10956): (6582, 1, 0, 10956, False), (11685, 11685): (11685, 7, -1, 11685, False), (11685, 11739): (11685, 5, 0, 11739, False), (11982, 11982): (11982, 0, -1, 11982, False), (11982, 12144): (11982, 4, 0, 12144, False), (4377, 4377): (4377, 7, -1, 4377, False), (12326, 12326): (12326, 0, -1, 12326, False), (7454, 9641): (7454, 1, 10, 9641, True), (10368, 10377): (10368, 6, 0, 10377, False), (6723, 6724): (6723, 8, 0, 6724, False), (10425, 10425): (10425, 1, -1, 10425, False), (10425, 10426): (10425, 8, 0, 10426, False), (3, 13125): (3, 0, 0, 13125, False), (13134, 13136): (13134, 8, 0, 13136, False), (13217, 14675): (13217, 2, 0, 14675, False), (12342, 12360): (12342, 6, 0, 12360, False), (6567, 6576): (6567, 6, 0, 6576, False), (7062, 7791): (7062, 2, 0, 7791, False), (7793, 9980): (7793, 1, 10, 9980, True), (9207, 9207): (9207, 4, -1, 9207, False), (9207, 9213): (9207, 7, 0, 9213, False), (11848, 11902): (11848, 5, 0, 11902, False), (6624, 7110): (6624, 3, 0, 7110, False), (7191, 7191): (7191, 6, -1, 7191, False), (7191, 8649): (7191, 2, 0, 8649, False), (6723, 6750): (6723, 5, 0, 6750, False), (11124, 11124): (11124, 0, -1, 11124, False), (11124, 11367): (11124, 3, 0, 11367, False), (10377, 10863): (10377, 3, 0, 10863, False), (0, 9): (0, 6, 0, 9, False), (63, 6624): (63, 0, 0, 6624, False), (7110, 7191): (7110, 4, 0, 7191, False), (8649, 10836): (8649, 1, 0, 10836, False), (11675, 11681): (11675, 7, 0, 11681, False), (11619, 11622): (11619, 7, 0, 11622, False), (11624, 12353): (11624, 2, 0, 12353, False), (243, 249): (243, 7, 0, 249, False), (330, 384): (330, 5, 0, 384, False), (6945, 6945): (6945, 7, -1, 6945, False), (6945, 6947): (6945, 8, 0, 6947, False), (6561, 6579): (6561, 6, 0, 6579, False), (6580, 6634): (6580, 5, 0, 6634, False), (12334, 12361): (12334, 5, 10, 12361, True), (10890, 10890): (10890, 2, -1, 10890, False), (10368, 10395): (10368, 5, 0, 10395, False), (11361, 11388): (11361, 5, 0, 11388, False), (4377, 4404): (4377, 5, 0, 4404, False), (4422, 10983): (4422, 0, 0, 10983, False), (11145, 11874): (11145, 2, 0, 11874, False), (11876, 11876): (11876, 0, -1, 11876, False), (10864, 10918): (10864, 5, 10, 10918, True), (8916, 8917): (8916, 8, 0, 8917, False), (10375, 10384): (10375, 6, 0, 10384, False), (10870, 10897): (10870, 5, 0, 10897, False), (10371, 10389): (10371, 6, 10, 10389, True), (6567, 6594): (6567, 5, 0, 6594, False), (6756, 8943): (6756, 1, 0, 8943, False), (10401, 10402): (10401, 8, 0, 10402, False), (6561, 10935): (6561, 1, 0, 10935, False), (11511, 11517): (11511, 7, 0, 11517, False), (8191, 8677): (8191, 3, 0, 8677, False), (99, 6660): (99, 0, 0, 6660, False), (6662, 6665): (6662, 7, 0, 6665, False), (11039, 11768): (11039, 2, 0, 11768, False), (12254, 12254): (12254, 1, -1, 12254, False), (15714, 15715): (15714, 8, 0, 15715, False), (17188, 17215): (17188, 5, 0, 17215, False), (9207, 10665): (9207, 2, 0, 10665, False), (10431, 10674): (10431, 3, 10, 10674, True), (6984, 6984): (6984, 3, -1, 6984, False), (11359, 11359): (11359, 0, -1, 11359, False), (11359, 11386): (11359, 5, 0, 11386, False), (11127, 11127): (11127, 7, -1, 11127, False), (11127, 11129): (11127, 8, 0, 11129, False), (11858, 12344): (11858, 3, 0, 12344, False), (10868, 10895): (10868, 5, 0, 10895, False), (6580, 6742): (6580, 4, 0, 6742, False), (7471, 7471): (7471, 0, -1, 7471, False), (1485, 8046): (1485, 0, 0, 8046, False), (2187, 2193): (2187, 7, 0, 2193, False), (8754, 10212): (8754, 2, 0, 10212, False), (10221, 10221): (10221, 6, -1, 10221, False), (10221, 10383): (10221, 4, 0, 10383, False), (10881, 10890): (10881, 6, 0, 10890, False), (8928, 8928): (8928, 0, -1, 8928, False), (6624, 6786): (6624, 4, 0, 6786, False), (10725, 10806): (10725, 4, 0, 10806, False), (0, 1): (0, 8, 0, 1, False), (163, 172): (163, 6, 0, 172, False), (178, 2365): (178, 1, 0, 2365, False), (12069, 12075): (12069, 7, 10, 12075, True), (7776, 12150): (7776, 1, 0, 12150, False), (12231, 12231): (12231, 1, -1, 12231, False), (12231, 12237): (12231, 7, 0, 12237, False), (10863, 10890): (10863, 5, 0, 10890, False), (6579, 6822): (6579, 3, 0, 6822, False), (6824, 6824): (6824, 0, -1, 6824, False), (6824, 6827): (6824, 7, 0, 6827, False), (8285, 8285): (8285, 7, -1, 8285, False), (8285, 8366): (8285, 4, 0, 8366, False), (10379, 10622): (10379, 3, 10, 10622, True), (6576, 7062): (6576, 3, 0, 7062, False), (7791, 7953): (7791, 4, 0, 7953, False), (10983, 10985): (10983, 8, 0, 10985, False), (11714, 12200): (11714, 3, 0, 12200, False), (10890, 10896): (10890, 7, 0, 10896, False), (0, 81): (0, 4, 0, 81, False), (15408, 15411): (15408, 7, 10, 15411, True), (15309, 15336): (15309, 5, 0, 15336, False), (15354, 15597): (15354, 3, 0, 15597, False), (15759, 15762): (15759, 7, 0, 15762, False), (11619, 11619): (11619, 6, -1, 11619, False), (11619, 11620): (11619, 8, 0, 11620, False), (13078, 13081): (13078, 7, 10, 13081, True), (10368, 10611): (10368, 3, 0, 10611, False), (163, 6724): (163, 0, 0, 6724, False), (6730, 6757): (6730, 5, 0, 6757, False), (6561, 6567): (6561, 7, 0, 6567, False), (7791, 7793): (7791, 8, 0, 7793, False), (7218, 7221): (7218, 7, 0, 7221, False), (8910, 8916): (8910, 7, 0, 8916, False), (10368, 10371): (10368, 7, 0, 10371, False), (7713, 7719): (7713, 7, 0, 7719, False), (11124, 11133): (11124, 6, 0, 11133, False), (163, 892): (163, 2, 0, 892, False), (7791, 7791): (7791, 6, -1, 7791, False), (10224, 10224): (10224, 1, -1, 10224, False), (10224, 10225): (10224, 8, 0, 10225, False), (10221, 10223): (10221, 8, 0, 10223, False), (6742, 6742): (6742, 6, -1, 6742, False), (6742, 6745): (6742, 7, 0, 6745, False), (6563, 8750): (6563, 1, 0, 8750, False), (10208, 10451): (10208, 3, 0, 10451, False), (6561, 6615): (6561, 5, 0, 6615, False), (6624, 6624): (6624, 6, -1, 6624, False), (6624, 10998): (6624, 1, 0, 10998, False), (10383, 10626): (10383, 3, 10, 10626, True), (8532, 10719): (8532, 1, 0, 10719, False), (11847, 12090): (11847, 3, 0, 12090, False), (11119, 11119): (11119, 7, -1, 11119, False), (11119, 11146): (11119, 5, 0, 11146, False), (11632, 11632): (11632, 3, -1, 11632, False), (11632, 12361): (11632, 2, 10, 12361, True), (4377, 4458): (4377, 4, 0, 4458, False), (17580, 17607): (17580, 5, 0, 17607, False), (7292, 7778): (7292, 3, 0, 7778, False), (0, 243): (0, 3, 0, 243, False), (6723, 6966): (6723, 3, 0, 6966, False), (10944, 10944): (10944, 6, -1, 10944, False), (10944, 12402): (10944, 2, 0, 12402, False), (15309, 15390): (15309, 4, 0, 15390, False), (13365, 13365): (13365, 3, -1, 13365, False), (13365, 13368): (13365, 7, 0, 13368, False), (14826, 17013): (14826, 1, 0, 17013, False), (17175, 17175): (17175, 7, -1, 17175, False), (17175, 17184): (17175, 6, 0, 17184, False), (6723, 6726): (6723, 7, 0, 6726, False), (8708, 8708): (8708, 0, -1, 8708, False), (10434, 10920): (10434, 3, 10, 10920, True), (13365, 13374): (13365, 6, 0, 13374, False), (14832, 17019): (14832, 1, 0, 17019, False), (17021, 17048): (17021, 5, 0, 17048, False), (15310, 15328): (15310, 6, 0, 15328, False), (15571, 15733): (15571, 4, 0, 15733, False), (15760, 15760): (15760, 1, -1, 15760, False), (15760, 17218): (15760, 2, 10, 17218, True), (0, 27): (0, 5, 0, 27, False), (8532, 8533): (8532, 8, 0, 8533, False), (8695, 8704): (8695, 6, 0, 8704, False), (8710, 8710): (8710, 4, -1, 8710, False), (8710, 10897): (8710, 1, 0, 10897, False), (11902, 11902): (11902, 7, -1, 11902, False), (11826, 11826): (11826, 4, -1, 11826, False), (11826, 11853): (11826, 5, 0, 11853, False), (7218, 7245): (7218, 5, 0, 7245, False), (6615, 7344): (6615, 2, 0, 7344, False), (11718, 11799): (11718, 4, 0, 11799, False), (12285, 12285): (12285, 3, -1, 12285, False), (12285, 12288): (12285, 7, 0, 12288, False), (12306, 12307): (12306, 8, 10, 12307, True), (6561, 6723): (6561, 4, 0, 6723, False), (7791, 7845): (7791, 5, 0, 7845, False), (10371, 10857): (10371, 3, 0, 10857, False), (10884, 10902): (10884, 6, 10, 10902, True), (7452, 7458): (7452, 7, 0, 7458, False), (5103, 5112): (5103, 6, 0, 5112, False), (5274, 5277): (5274, 7, 0, 5277, False), (5279, 11840): (5279, 0, 0, 11840, False), (6567, 7296): (6567, 2, 0, 7296, False), (11670, 11751): (11670, 4, 0, 11751, False), (11753, 11762): (11753, 6, 10, 11762, True), (11124, 11127): (11124, 7, 0, 11127, False), (12585, 12594): (12585, 6, 0, 12594, False), (15390, 16848): (15390, 2, 0, 16848, False), (1485, 1566): (1485, 4, 0, 1566, False), (2052, 8613): (2052, 0, 0, 8613, False), (8615, 8624): (8615, 6, 0, 8624, False), (12998, 13001): (12998, 7, 0, 13001, False), (6726, 6744): (6726, 6, 0, 6744, False), (7473, 11847): (7473, 1, 0, 11847, False), (12090, 12090): (12090, 2, -1, 12090, False), (12090, 12092): (12090, 8, 0, 12092, False), (10944, 10998): (10944, 5, 0, 10998, False), (163, 2350): (163, 1, 0, 2350, False), (15472, 15715): (15472, 3, 0, 15715, False), (6966, 6984): (6966, 6, 0, 6984, False), (7713, 12087): (7713, 1, 0, 12087, False), (6561, 6563): (6561, 8, 0, 6563, False), (11675, 11675): (11675, 0, -1, 11675, False), (15309, 15309): (15309, 1, -1, 15309, False), (15309, 15318): (15309, 6, 0, 15318, False), (15480, 15481): (15480, 8, 0, 15481, False), (15487, 16216): (15487, 2, 0, 16216, False), (16270, 16270): (16270, 2, -1, 16270, False), (16270, 16513): (16270, 3, 0, 16513, False), (9, 1467): (9, 2, 0, 1467, False), (8028, 8514): (8028, 3, 0, 8514, False), (8515, 8677): (8515, 4, 0, 8677, False), (8910, 10368): (8910, 2, 0, 10368, False), (10864, 10870): (10864, 7, 0, 10870, False), (8912, 9155): (8912, 3, 0, 9155, False), (9209, 9938): (9209, 2, 10, 9938, True), (7471, 7957): (7471, 3, 0, 7957, False), (6984, 9171): (6984, 1, 0, 9171, False), (10377, 10377): (10377, 2, -1, 10377, False), (8019, 8262): (8019, 3, 0, 8262, False), (8264, 8291): (8264, 5, 0, 8291, False), (8297, 8297): (8297, 7, -1, 8297, False), (8297, 8378): (8297, 4, 10, 8378, True), (8939, 10397): (8939, 2, 0, 10397, False), (10406, 10892): (10406, 3, 0, 10892, False), (7212, 7212): (7212, 4, -1, 7212, False), (7212, 7221): (7212, 6, 0, 7221, False), (11619, 12348): (11619, 2, 0, 12348, False), (6723, 7452): (6723, 2, 0, 7452, False), (7506, 9693): (7506, 1, 10, 9693, True), (6563, 6563): (6563, 0, -1, 6563, False), (6563, 7292): (6563, 2, 0, 7292, False), (11624, 11624): (11624, 6, -1, 11624, False), (10395, 10413): (10395, 6, 10, 10413, True), (15472, 15481): (15472, 6, 0, 15481, False), (15487, 15487): (15487, 1, -1, 15487, False), (15487, 15730): (15487, 3, 0, 15730, False), (17188, 17188): (17188, 4, -1, 17188, False), (8532, 8535): (8532, 7, 0, 8535, False), (12231, 12249): (12231, 6, 0, 12249, False), (7218, 7218): (7218, 4, -1, 7218, False), (8750, 8750): (8750, 0, -1, 8750, False), (8750, 9236): (8750, 3, 0, 9236, False), (10369, 10369): (10369, 1, -1, 10369, False), (10369, 10375): (10369, 7, 0, 10375, False), (6984, 6987): (6984, 7, 0, 6987, False), (8706, 8708): (8706, 8, 0, 8708, False), (11693, 11699): (11693, 7, 0, 11699, False), (11942, 12104): (11942, 4, 10, 12104, True), (10863, 10864): (10863, 8, 0, 10864, False), (6561, 8019): (6561, 2, 0, 8019, False), (8020, 8020): (8020, 0, -1, 8020, False), (8020, 8506): (8020, 3, 0, 8506, False), (10693, 10747): (10693, 5, 0, 10747, False), (15552, 15714): (15552, 4, 0, 15714, False), (15715, 17173): (15715, 2, 0, 17173, False), (11747, 11747): (11747, 8, -1, 11747, False), (11747, 11801): (11747, 5, 0, 11801, False), (9, 171): (9, 4, 0, 171, False), (7245, 11619): (7245, 1, 0, 11619, False), (11622, 11624): (11622, 8, 0, 11624, False), (6563, 6644): (6563, 4, 0, 6644, False), (8102, 8129): (8102, 5, 0, 8129, False), (6576, 6578): (6576, 8, 0, 6578, False), (12237, 12246): (12237, 6, 10, 12246, True), (11125, 11125): (11125, 1, -1, 11125, False), (11125, 11131): (11125, 7, 10, 11131, True), (11670, 11671): (11670, 8, 0, 11671, False), (8697, 8697): (8697, 2, -1, 8697, False), (10368, 10368): (10368, 4, -1, 10368, False), (6580, 6580): (6580, 6, -1, 6580, False), (6580, 6586): (6580, 7, 0, 6586, False), (7315, 7315): (7315, 6, -1, 7315, False), (7315, 7801): (7315, 3, 0, 7801, False), (8964, 9693): (8964, 2, 10, 9693, True), (15396, 15396): (15396, 0, -1, 15396, False), (15396, 15397): (15396, 8, 0, 15397, False), (16855, 17098): (16855, 3, 0, 17098, False), (17152, 17161): (17152, 6, 0, 17161, False), (27, 13149): (27, 0, 0, 13149, False), (13878, 13880): (13878, 8, 0, 13880, False), (13961, 13961): (13961, 8, -1, 13961, False), (13961, 18335): (13961, 1, 0, 18335, False), (10377, 10379): (10377, 8, 0, 10379, False), (4377, 10938): (4377, 0, 0, 10938, False), (10956, 11037): (10956, 4, 0, 11037, False), (11091, 11820): (11091, 2, 0, 11820, False), (11822, 12065): (11822, 3, 0, 12065, False), (10377, 10383): (10377, 7, 0, 10383, False), (891, 900): (891, 6, 0, 900, False), (11894, 12137): (11894, 3, 10, 12137, True), (8020, 8182): (8020, 4, 0, 8182, False), (8191, 8191): (8191, 8, -1, 8191, False), (8191, 12565): (8191, 1, 0, 12565, False), (12592, 12598): (12592, 7, 10, 12598, True), (8615, 10802): (8615, 1, 0, 10802, False), (10808, 10817): (10808, 6, 0, 10817, False), (11098, 11101): (11098, 7, 0, 11101, False), (11098, 11098): (11098, 8, -1, 11098, False), (171, 2358): (171, 1, 0, 2358, False), (15480, 15723): (15480, 3, 0, 15723, False), (8910, 8928): (8910, 6, 0, 8928, False), (7713, 7767): (7713, 5, 0, 7767, False), (747, 7308): (747, 0, 0, 7308, False), (11682, 11683): (11682, 8, 0, 11683, False), (12169, 12196): (12169, 5, 10, 12196, True), (8191, 8245): (8191, 5, 0, 8245, False), (6723, 6723): (6723, 0, -1, 6723, False), (7239, 11613): (7239, 1, 0, 11613, False), (11614, 11614): (11614, 0, -1, 11614, False), (11614, 13072): (11614, 2, 0, 13072, False), (12231, 12233): (12231, 8, 0, 12233, False), (7344, 11718): (7344, 1, 0, 11718, False), (11799, 11799): (11799, 0, -1, 11799, False), (11799, 11817): (11799, 6, 0, 11817, False), (15309, 15310): (15309, 8, 0, 15310, False), (15472, 16201): (15472, 2, 0, 16201, False), (16255, 16498): (16255, 3, 0, 16498, False), (6723, 8910): (6723, 1, 0, 8910, False), (7047, 7776): (7047, 2, 0, 7776, False), (12150, 12231): (12150, 4, 0, 12231, False), (12285, 12294): (12285, 6, 10, 12294, True), (9399, 9453): (9399, 5, 10, 9453, True), (11511, 11511): (11511, 4, -1, 11511, False), (7047, 7047): (7047, 3, -1, 7047, False), (7047, 7056): (7047, 6, 0, 7056, False), (7047, 9234): (7047, 1, 0, 9234, False), (10892, 10892): (10892, 3, -1, 10892, False), (7471, 7525): (7471, 5, 0, 7525, False), (10944, 10950): (10944, 7, 0, 10950, False), (7292, 11666): (7292, 1, 0, 11666, False), (11100, 11109): (11100, 6, 0, 11109, False), (12567, 12810): (12567, 3, 10, 12810, True), (7247, 9434): (7247, 1, 0, 9434, False), (10719, 10881): (10719, 4, 0, 10881, False), (10383, 10383): (10383, 6, -1, 10383, False), (10383, 10384): (10383, 8, 0, 10384, False), (8910, 8964): (8910, 5, 0, 8964, False), (10384, 10870): (10384, 3, 0, 10870, False), (12237, 12237): (12237, 3, -1, 12237, False), (12237, 12238): (12237, 8, 10, 12238, True), (6726, 7212): (6726, 3, 0, 7212, False), (7239, 8697): (7239, 2, 0, 8697, False), (10692, 10695): (10692, 7, 0, 10695, False), (10697, 10778): (10697, 4, 10, 10778, True), (6576, 6576): (6576, 0, -1, 6576, False), (8910, 8912): (8910, 8, 0, 8912, False), (12360, 12360): (12360, 0, -1, 12360, False), (12360, 12361): (12360, 8, 10, 12361, True), (11718, 11718): (11718, 1, -1, 11718, False), (11718, 11719): (11718, 8, 0, 11719, False), (11881, 11881): (11881, 5, -1, 11881, False), (11881, 12124): (11881, 3, 0, 12124, False), (27, 1485): (27, 2, 0, 1485, False), (8046, 8532): (8046, 3, 0, 8532, False), (8912, 9641): (8912, 2, 10, 9641, True)}\n"
          ]
        }
      ]
    },
    {
      "cell_type": "markdown",
      "source": [
        "###And this is how it goes against random:"
      ],
      "metadata": {
        "id": "5OX00e9rkdlX"
      }
    },
    {
      "cell_type": "code",
      "source": [
        "win1 = 0\n",
        "draw1 = 0\n",
        "plays = 3_000\n",
        "for i in range(plays):\n",
        "  g = Game()\n",
        "  winner = g.play(player1, player2)\n",
        "  if winner == 0:\n",
        "    win1 += 1\n",
        "  elif winner == -2:\n",
        "    draw1 += 1\n",
        "print(\"Win perc as 1st:\", win1 * 100 / plays)\n",
        "print(\"Draw perc as 1st:\", draw1 * 100 / plays)"
      ],
      "metadata": {
        "colab": {
          "base_uri": "https://localhost:8080/"
        },
        "id": "vLsJPA998jSn",
        "outputId": "1f6723cb-5026-49e8-f848-7bacdd634b99"
      },
      "execution_count": 170,
      "outputs": [
        {
          "output_type": "stream",
          "name": "stdout",
          "text": [
            "Win perc as 1st: 99.33333333333333\n",
            "Draw perc as 1st: 0.6666666666666666\n"
          ]
        }
      ]
    },
    {
      "cell_type": "code",
      "source": [
        "win2 = 0\n",
        "draw2 = 0\n",
        "plays = 3_000\n",
        "for i in range(plays):\n",
        "  g = Game()\n",
        "  winner = g.play(player2, player1)\n",
        "  if winner == 1:\n",
        "    win2 += 1\n",
        "  elif winner == -2:\n",
        "    draw2 += 1\n",
        "print(\"Win perc as 1st:\", win2 * 100 / plays)\n",
        "print(\"Draw perc as 1st:\", draw2 * 100 / plays)"
      ],
      "metadata": {
        "colab": {
          "base_uri": "https://localhost:8080/"
        },
        "id": "CSOzjX9cLklQ",
        "outputId": "a59ffcfd-2ddb-48d3-d5ff-bbedffa670b9"
      },
      "execution_count": 173,
      "outputs": [
        {
          "output_type": "stream",
          "name": "stdout",
          "text": [
            "Win perc as 1st: 79.53333333333333\n",
            "Draw perc as 1st: 20.466666666666665\n"
          ]
        }
      ]
    },
    {
      "cell_type": "markdown",
      "source": [
        "###And here against player3 that I make fully exploitative again...not really a great result, after all :\\\\"
      ],
      "metadata": {
        "id": "t6nRchsyfDTP"
      }
    },
    {
      "cell_type": "code",
      "source": [
        "player3.exploration_rate = 0\n",
        "\n",
        "win1 = 0\n",
        "draw1 = 0\n",
        "plays = 3_000\n",
        "for i in range(plays):\n",
        "  g = Game()\n",
        "  winner = g.play(player1, player3)\n",
        "  if winner == 0:\n",
        "    win1 += 1\n",
        "  elif winner == -2:\n",
        "    draw1 += 1\n",
        "print(\"Win perc as 1st:\", win1 * 100 / plays)\n",
        "print(\"Draw perc as 1st:\", draw1 * 100 / plays)"
      ],
      "metadata": {
        "colab": {
          "base_uri": "https://localhost:8080/"
        },
        "id": "THov5iGzckQq",
        "outputId": "eac33271-4ae6-444a-b3c1-210f4f540a13"
      },
      "execution_count": 174,
      "outputs": [
        {
          "output_type": "stream",
          "name": "stdout",
          "text": [
            "Win perc as 1st: 0.0\n",
            "Draw perc as 1st: 100.0\n"
          ]
        }
      ]
    },
    {
      "cell_type": "code",
      "source": [
        "win2 = 0\n",
        "draw2 = 0\n",
        "plays = 3_000\n",
        "for i in range(plays):\n",
        "  g = Game()\n",
        "  winner = g.play(player3, player1)\n",
        "  if winner == 1:\n",
        "    win2 += 1\n",
        "  elif winner == -2:\n",
        "    draw2 += 1\n",
        "print(\"Win perc as 1st:\", win2 * 100 / plays)\n",
        "print(\"Draw perc as 1st:\", draw2 * 100 / plays)"
      ],
      "metadata": {
        "colab": {
          "base_uri": "https://localhost:8080/"
        },
        "id": "aKPkrTb-cpfy",
        "outputId": "65e9ec83-a807-4662-b42f-6e055345d3e0"
      },
      "execution_count": 175,
      "outputs": [
        {
          "output_type": "stream",
          "name": "stdout",
          "text": [
            "Win perc as 1st: 0.0\n",
            "Draw perc as 1st: 100.0\n"
          ]
        }
      ]
    }
  ],
  "metadata": {
    "kernelspec": {
      "display_name": "ci-fLJ3OwGs-py3.12",
      "language": "python",
      "name": "python3"
    },
    "language_info": {
      "codemirror_mode": {
        "name": "ipython",
        "version": 3
      },
      "file_extension": ".py",
      "mimetype": "text/x-python",
      "name": "python",
      "nbconvert_exporter": "python",
      "pygments_lexer": "ipython3",
      "version": "3.12.0"
    },
    "colab": {
      "provenance": [],
      "collapsed_sections": [
        "OfFRxcGvj8b1"
      ]
    }
  },
  "nbformat": 4,
  "nbformat_minor": 0
}